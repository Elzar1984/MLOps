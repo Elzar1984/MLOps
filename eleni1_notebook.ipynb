{
 "cells": [
  {
   "cell_type": "code",
   "execution_count": 8,
   "metadata": {
    "scrolled": true
   },
   "outputs": [
    {
     "name": "stdout",
     "output_type": "stream",
     "text": [
      "Once deleted, variables cannot be recovered. Proceed (y/[n])? y\n",
      "Don't know how to reset  #, please run `%reset?` for details\n",
      "Don't know how to reset  clears, please run `%reset?` for details\n",
      "Don't know how to reset  all, please run `%reset?` for details\n",
      "Don't know how to reset  variables., please run `%reset?` for details\n"
     ]
    }
   ],
   "source": [
    "# clear all # clear working console\n",
    "%reset  # clears all variables.\n"
   ]
  },
  {
   "cell_type": "code",
   "execution_count": 2,
   "metadata": {},
   "outputs": [],
   "source": [
    "# import libraries\n",
    "# for data manipulation\n",
    "import pandas as pd\n",
    "import numpy as np\n",
    "# for plotting\n",
    "import matplotlib.pyplot as plt\n",
    "import matplotlib.pyplot as plt\n",
    "import pylab\n",
    "import seaborn as sns\n",
    "\n",
    "plt.style.use('classic')\n",
    "plt.style.use('seaborn-whitegrid')"
   ]
  },
  {
   "cell_type": "code",
   "execution_count": null,
   "metadata": {},
   "outputs": [],
   "source": [
    "# statistical and ML libraries\n",
    "import tensorflow as tf\n",
    "from tensorflow import keras\n",
    "from tensorflow.keras import layers\n",
    "from tensorflow.keras import models\n",
    "\n",
    "from tensorflow.keras.models import Sequential\n",
    "from tensorflow.keras.layers import LSTM\n",
    "from tensorflow.keras.layers import Dense\n",
    "from tensorflow.keras.layers import Bidirectional\n",
    "import scipy.stats\n",
    "from sklearn.metrics import mean_absolute_error"
   ]
  },
  {
   "cell_type": "code",
   "execution_count": 3,
   "metadata": {},
   "outputs": [],
   "source": [
    "from os import chdir\n",
    "chdir('/Users/elenizarogianni/Desktop/MLOps')\n"
   ]
  },
  {
   "cell_type": "code",
   "execution_count": 4,
   "metadata": {},
   "outputs": [
    {
     "data": {
      "text/html": [
       "<div>\n",
       "<style scoped>\n",
       "    .dataframe tbody tr th:only-of-type {\n",
       "        vertical-align: middle;\n",
       "    }\n",
       "\n",
       "    .dataframe tbody tr th {\n",
       "        vertical-align: top;\n",
       "    }\n",
       "\n",
       "    .dataframe thead th {\n",
       "        text-align: right;\n",
       "    }\n",
       "</style>\n",
       "<table border=\"1\" class=\"dataframe\">\n",
       "  <thead>\n",
       "    <tr style=\"text-align: right;\">\n",
       "      <th></th>\n",
       "      <th>bw</th>\n",
       "      <th>requests</th>\n",
       "      <th>hits</th>\n",
       "    </tr>\n",
       "  </thead>\n",
       "  <tbody>\n",
       "    <tr>\n",
       "      <td>count</td>\n",
       "      <td>8621.000000</td>\n",
       "      <td>8621.000000</td>\n",
       "      <td>8621.000000</td>\n",
       "    </tr>\n",
       "    <tr>\n",
       "      <td>mean</td>\n",
       "      <td>1508.394051</td>\n",
       "      <td>4816.208676</td>\n",
       "      <td>1593.166570</td>\n",
       "    </tr>\n",
       "    <tr>\n",
       "      <td>std</td>\n",
       "      <td>588.018169</td>\n",
       "      <td>1731.083660</td>\n",
       "      <td>804.699398</td>\n",
       "    </tr>\n",
       "    <tr>\n",
       "      <td>min</td>\n",
       "      <td>0.000000</td>\n",
       "      <td>0.000000</td>\n",
       "      <td>0.000000</td>\n",
       "    </tr>\n",
       "    <tr>\n",
       "      <td>25%</td>\n",
       "      <td>1154.783300</td>\n",
       "      <td>3735.000000</td>\n",
       "      <td>1044.000000</td>\n",
       "    </tr>\n",
       "    <tr>\n",
       "      <td>50%</td>\n",
       "      <td>1585.049900</td>\n",
       "      <td>5111.000000</td>\n",
       "      <td>1634.000000</td>\n",
       "    </tr>\n",
       "    <tr>\n",
       "      <td>75%</td>\n",
       "      <td>1933.229000</td>\n",
       "      <td>6080.000000</td>\n",
       "      <td>2142.000000</td>\n",
       "    </tr>\n",
       "    <tr>\n",
       "      <td>max</td>\n",
       "      <td>2819.162000</td>\n",
       "      <td>8241.000000</td>\n",
       "      <td>3728.000000</td>\n",
       "    </tr>\n",
       "  </tbody>\n",
       "</table>\n",
       "</div>"
      ],
      "text/plain": [
       "                bw     requests        hits \n",
       "count  8621.000000  8621.000000  8621.000000\n",
       "mean   1508.394051  4816.208676  1593.166570\n",
       "std     588.018169  1731.083660   804.699398\n",
       "min       0.000000     0.000000     0.000000\n",
       "25%    1154.783300  3735.000000  1044.000000\n",
       "50%    1585.049900  5111.000000  1634.000000\n",
       "75%    1933.229000  6080.000000  2142.000000\n",
       "max    2819.162000  8241.000000  3728.000000"
      ]
     },
     "execution_count": 4,
     "metadata": {},
     "output_type": "execute_result"
    }
   ],
   "source": [
    "data = pd.read_csv('logfile.log')\n",
    "\n",
    "# index data based on time\n",
    "data = pd.read_csv('logfile.log', index_col=['time'], parse_dates=['time'])\n",
    "\n",
    "server = '216.66.13.235:8088'\n",
    "# filter based on server\n",
    "srv = data.loc[data['server'] == server]\n",
    "\n",
    "# get basic info on the dataset\n",
    "srv.head(10)\n",
    "srv.shape\n",
    "srv.dtypes\n",
    "\n",
    "# Describe numerical variables (mean,std etc.)\n",
    "srv.describe()"
   ]
  },
  {
   "cell_type": "raw",
   "metadata": {},
   "source": [
    "################### Data pre-processing phase ###################"
   ]
  },
  {
   "cell_type": "code",
   "execution_count": 5,
   "metadata": {},
   "outputs": [
    {
     "name": "stderr",
     "output_type": "stream",
     "text": [
      "/Users/elenizarogianni/opt/anaconda3/lib/python3.7/site-packages/pandas/core/frame.py:4102: SettingWithCopyWarning: \n",
      "A value is trying to be set on a copy of a slice from a DataFrame\n",
      "\n",
      "See the caveats in the documentation: http://pandas.pydata.org/pandas-docs/stable/user_guide/indexing.html#returning-a-view-versus-a-copy\n",
      "  errors=errors,\n"
     ]
    },
    {
     "data": {
      "text/html": [
       "<div>\n",
       "<style scoped>\n",
       "    .dataframe tbody tr th:only-of-type {\n",
       "        vertical-align: middle;\n",
       "    }\n",
       "\n",
       "    .dataframe tbody tr th {\n",
       "        vertical-align: top;\n",
       "    }\n",
       "\n",
       "    .dataframe thead th {\n",
       "        text-align: right;\n",
       "    }\n",
       "</style>\n",
       "<table border=\"1\" class=\"dataframe\">\n",
       "  <thead>\n",
       "    <tr style=\"text-align: right;\">\n",
       "      <th></th>\n",
       "      <th>bw</th>\n",
       "      <th>requests</th>\n",
       "      <th>hits</th>\n",
       "    </tr>\n",
       "    <tr>\n",
       "      <th>time</th>\n",
       "      <th></th>\n",
       "      <th></th>\n",
       "      <th></th>\n",
       "    </tr>\n",
       "  </thead>\n",
       "  <tbody>\n",
       "    <tr>\n",
       "      <td>1.589360e+12</td>\n",
       "      <td>427.17157</td>\n",
       "      <td>1957.0</td>\n",
       "      <td>230.0</td>\n",
       "    </tr>\n",
       "    <tr>\n",
       "      <td>1.589360e+12</td>\n",
       "      <td>427.17157</td>\n",
       "      <td>1957.0</td>\n",
       "      <td>230.0</td>\n",
       "    </tr>\n",
       "    <tr>\n",
       "      <td>1.589360e+12</td>\n",
       "      <td>421.83206</td>\n",
       "      <td>2084.0</td>\n",
       "      <td>256.0</td>\n",
       "    </tr>\n",
       "    <tr>\n",
       "      <td>1.589360e+12</td>\n",
       "      <td>421.83206</td>\n",
       "      <td>2084.0</td>\n",
       "      <td>256.0</td>\n",
       "    </tr>\n",
       "    <tr>\n",
       "      <td>1.589360e+12</td>\n",
       "      <td>418.20386</td>\n",
       "      <td>1891.0</td>\n",
       "      <td>306.0</td>\n",
       "    </tr>\n",
       "  </tbody>\n",
       "</table>\n",
       "</div>"
      ],
      "text/plain": [
       "                     bw  requests  hits \n",
       "time                                    \n",
       "1.589360e+12  427.17157    1957.0  230.0\n",
       "1.589360e+12  427.17157    1957.0  230.0\n",
       "1.589360e+12  421.83206    2084.0  256.0\n",
       "1.589360e+12  421.83206    2084.0  256.0\n",
       "1.589360e+12  418.20386    1891.0  306.0"
      ]
     },
     "execution_count": 5,
     "metadata": {},
     "output_type": "execute_result"
    }
   ],
   "source": [
    "# drop irrelevant columns\n",
    "drop_cols = ['type', 'server']\n",
    "srv.drop(drop_cols, axis=1, inplace=True)\n",
    "# check\n",
    "srv.head()\n"
   ]
  },
  {
   "cell_type": "code",
   "execution_count": 6,
   "metadata": {},
   "outputs": [
    {
     "name": "stdout",
     "output_type": "stream",
     "text": [
      "0\n"
     ]
    }
   ],
   "source": [
    "# check for missing value, in all columns\n",
    "srv.isnull().any().any()\n",
    "\n",
    "# double-check for bandwidth\n",
    "print(srv.bw.isnull().sum())\n"
   ]
  },
  {
   "cell_type": "code",
   "execution_count": null,
   "metadata": {},
   "outputs": [],
   "source": [
    "# Correct time variable\n",
    "# From unix timestamp to date-time timestamp\n",
    "\n",
    "from datetime import datetime\n",
    "indexes=srv.index\n",
    "\n",
    "indexes = pd.DataFrame(data=srv.index)\n",
    "new_indexes =[] \n",
    "\n",
    "# For each row in time,\n",
    "for row in indexes.index:\n",
    "    new_indexes.append(indexes.loc[row]/1000)\n",
    "    \n",
    "srv = srv.set_index(indexes)\n",
    "srv.index"
   ]
  },
  {
   "cell_type": "code",
   "execution_count": 7,
   "metadata": {},
   "outputs": [
    {
     "data": {
      "image/png": "[encoded data removed]",
      "text/plain": [
       "<Figure size 1224x576 with 1 Axes>"
      ]
     },
     "metadata": {
      "needs_background": "light"
     },
     "output_type": "display_data"
    }
   ],
   "source": [
    "# Plot bandwidth\n",
    "plt.figure(figsize=(17, 8))\n",
    "plt.plot(srv.bw)\n",
    "plt.title('Bandwidth fluctuation over time')\n",
    "plt.ylabel('Bandwidth')\n",
    "plt.xlabel('Time')\n",
    "plt.grid(False)\n",
    "plt.show()"
   ]
  },
  {
   "cell_type": "raw",
   "metadata": {},
   "source": [
    "1. Seasonality is evident from the plot. Therefore check for seasonality using an auto-correlation plot.\n",
    "2. Check for stationarity.     "
   ]
  },
  {
   "cell_type": "code",
   "execution_count": null,
   "metadata": {},
   "outputs": [],
   "source": [
    "# test stationarity of data, i.e. statistical properties don't change over-time.\n",
    "from scipy.optimize import minimize\n",
    "import statsmodels.tsa.api as smt\n",
    "import statsmodels.api as sm\n",
    "\n",
    "def tsplot(y, lags=None, figsize=(12, 7), syle='bmh'):\n",
    "    \n",
    "    if not isinstance(y, pd.Series):\n",
    "        y = pd.Series(y)\n",
    "        \n",
    "    with plt.style.context(style='bmh'):\n",
    "        fig = plt.figure(figsize=figsize)\n",
    "        layout = (2,2)\n",
    "        ts_ax = plt.subplot2grid(layout, (0,0), colspan=2)\n",
    "        acf_ax = plt.subplot2grid(layout, (1,0))\n",
    "        pacf_ax = plt.subplot2grid(layout, (1,1))\n",
    "        \n",
    "        y.plot(ax=ts_ax)\n",
    "        p_value = sm.tsa.stattools.adfuller(y)[1]\n",
    "        ts_ax.set_title('Time Series Analysis Plots\\n Dickey-Fuller: p={0:.5f}'.format(p_value))\n",
    "        smt.graphics.plot_acf(y, lags=lags, ax=acf_ax)\n",
    "        smt.graphics.plot_pacf(y, lags=lags, ax=pacf_ax)\n",
    "        plt.tight_layout()\n",
    "        \n",
    "tsplot(srv.bw, lags=30)"
   ]
  },
  {
   "cell_type": "raw",
   "metadata": {},
   "source": [
    "\n",
    "Based on the plot above, the time-series is non-stationary (i.e. clear seasonal component)"
   ]
  },
  {
   "cell_type": "code",
   "execution_count": null,
   "metadata": {},
   "outputs": [],
   "source": [
    "# Take the first difference to make the process stationary\n",
    "# !!!! plug away with options for lag.\n",
    "data_diff = srv.bw - srv.bw.shift(1)\n",
    "tsplot(data_diff[1:], lags=30)"
   ]
  },
  {
   "cell_type": "code",
   "execution_count": null,
   "metadata": {},
   "outputs": [],
   "source": [
    "## OR Box-Jenkins model to transform data for stationarity.\n",
    "\n",
    "\n"
   ]
  },
  {
   "cell_type": "raw",
   "metadata": {},
   "source": [
    "In the auto-correlation plot, auto-correlation is very high. "
   ]
  },
  {
   "cell_type": "code",
   "execution_count": null,
   "metadata": {},
   "outputs": [],
   "source": [
    "# conduct a Durbin-Watson Test to further explore auto-correlation\n"
   ]
  },
  {
   "cell_type": "raw",
   "metadata": {},
   "source": [
    "Correct seasonality! --> Remove the seasonality by seasonally detrending the data or smoothing the data using an appropriate filter. \n",
    "If the model is going to be used for forecasting, the seasonal component must be included in the forecast.\n",
    " --->  choose SARIMA model that incorporates the element of seasonality.\n",
    "\n"
   ]
  },
  {
   "cell_type": "code",
   "execution_count": null,
   "metadata": {},
   "outputs": [],
   "source": []
  },
  {
   "cell_type": "raw",
   "metadata": {},
   "source": [
    "Other preprocessing steps to consider, Normalization/Standardization\n",
    "ATTENTION!!\n",
    "Compute from the training data and apply to the whole dataset\n"
   ]
  },
  {
   "cell_type": "code",
   "execution_count": null,
   "metadata": {},
   "outputs": [],
   "source": [
    "# 1. Normalize data, using [min max]\n",
    "from sklearn.preprocessing import MinMaxScaler\n",
    "scaler = MinMaxScaler(feature_range=(0, 1))\n"
   ]
  },
  {
   "cell_type": "code",
   "execution_count": null,
   "metadata": {},
   "outputs": [],
   "source": [
    "# 2. Standardize data  data, using mean, variance\n",
    "# Questionmark: does it work well witn non-stationary data? -->doubtfull, explore further\n",
    "\n",
    "from pandas import read_csv\n",
    "from sklearn.preprocessing import StandardScaler\n",
    "from math import sqrt\n"
   ]
  },
  {
   "cell_type": "raw",
   "metadata": {},
   "source": [
    "################### Modelling Phase ###################"
   ]
  },
  {
   "cell_type": "code",
   "execution_count": null,
   "metadata": {},
   "outputs": [],
   "source": [
    "# 1. conduct basic time-series modelling techniques\n"
   ]
  },
  {
   "cell_type": "code",
   "execution_count": null,
   "metadata": {},
   "outputs": [],
   "source": [
    "\n",
    "# 1a. moving average\n",
    "\n",
    "def plot_moving_average(series, window, plot_intervals=False, scale=1.96):\n",
    "\n",
    "    rolling_mean = series.rolling(window=window).mean()\n",
    "    \n",
    "    plt.figure(figsize=(17,8))\n",
    "    plt.title('Moving average\\n window size = {}'.format(window))\n",
    "    plt.plot(rolling_mean, 'g', label='Rolling mean trend')\n",
    "    \n",
    "    #Plot confidence intervals for smoothed values\n",
    "    if plot_intervals:\n",
    "        mae = mean_absolute_error(series[window:], rolling_mean[window:])\n",
    "        deviation = np.std(series[window:] - rolling_mean[window:])\n",
    "        lower_bound = rolling_mean - (mae + scale * deviation)\n",
    "        upper_bound = rolling_mean + (mae + scale * deviation)\n",
    "        plt.plot(upper_bound, 'r--', label='Upper bound / Lower bound')\n",
    "        plt.plot(lower_bound, 'r--')\n",
    "            \n",
    "    plt.plot(series[window:], label='Actual values')\n",
    "    plt.legend(loc='best')\n",
    "    plt.grid(True)\n",
    "\n",
    "#Smooth by the previous 5 days (by week)\n",
    "plot_moving_average(srv.bw, 100)  # the longer the window the smoother the trend.\n",
    "\n"
   ]
  },
  {
   "cell_type": "code",
   "execution_count": null,
   "metadata": {},
   "outputs": [],
   "source": [
    "# 1b. ARIMA \n",
    "\n",
    "\n",
    "\n"
   ]
  },
  {
   "cell_type": "raw",
   "metadata": {},
   "source": [
    "The autoregressive integrated moving average model (ARIMA) is a fundamental univariate time series model. \n",
    "The ARIMA model is made up of three key components:\n",
    "\n",
    "The autoregressive component is the relationship between the current dependent variable the dependent variable at lagged time periods.\n",
    "\n",
    "The integrated component refers to the use of transforming the data by subtracting past values of a variable \n",
    "from the current values of a variable in order to make the data stationary.\n",
    "\n",
    "The moving average component refers to the dependency between the dependent variable and past values of a stochastic term."
   ]
  },
  {
   "cell_type": "code",
   "execution_count": null,
   "metadata": {},
   "outputs": [],
   "source": [
    "# 1c. SARIMA (incorporates seasonality element, therefore input raw, uncorrected for seasonality data)\n",
    " \n",
    "\n",
    "\n",
    "    \n",
    "    \n",
    "    \n",
    "    "
   ]
  },
  {
   "cell_type": "code",
   "execution_count": null,
   "metadata": {},
   "outputs": [],
   "source": [
    "# 2 LSTM\n",
    "# as done by Vlontzos --> done in vlontzos.py (incorporate however here later!)\n",
    "\n",
    "\n",
    "\n"
   ]
  },
  {
   "cell_type": "code",
   "execution_count": null,
   "metadata": {},
   "outputs": [],
   "source": [
    "################### performance metrics for LSTM: MSE, RMSE and R2\n",
    "\n",
    "## MSE\n",
    "import sklearn\n",
    "from sklearn.metrics import mean_squared_error\n",
    "mse = sklearn.metrics.mean_squared_error(Yy, yhat, multioutput='uniform_average')\n",
    "\n",
    "# περιεργο mse δινει πισω.\n",
    "mse = 2570.924589949453 \n",
    "\n",
    "# Mean Squared Error in numpy\n",
    "import numpy as np\n",
    "MSE = np.square(np.subtract(Yy,yhat)).mean() # edw dinei allo apotelesma, 767979.0512846907 ???\n",
    "\n",
    "# Claculate error yourself, due to inconsistency shown above\n",
    "# calculate error\n",
    "err = (expected[i] - predicted[i])**2\n",
    "# example of increase in mean squared error\n",
    "from matplotlib import pyplot\n",
    "from sklearn.metrics import mean_squared_error\n",
    "# real value\n",
    "expected = Yy\n",
    "# predicted value\n",
    "predicted = yhat\n",
    "# calculate errors\n",
    "errors = list()\n",
    "for i in range(len(expected)):\n",
    "\t# calculate error\n",
    "\terr = (expected[i] - predicted[i])**2\n",
    "\t# store error\n",
    "\terrors.append(err)\n",
    "\t# report error\n",
    "\tprint('>%.1f, %.1f = %.3f' % (expected[i], predicted[i], err))\n",
    "    \n",
    "# add all the squared errors up\n",
    "squared_error\n",
    " \n",
    "# find the mean of the squared error\n",
    "mse=squared_error/yhat.size\n",
    "    \n",
    "# plot errors\n",
    "pyplot.plot(errors)\n",
    "pyplot.xticks(ticks=[i for i in range(len(errors))], labels=predicted)\n",
    "pyplot.xlabel('Predicted Value')\n",
    "pyplot.ylabel('Mean Squared Error')\n",
    "pyplot.show()\n",
    "\n",
    "\n",
    "## RMSE- root MSE assure same metrics are maintained, e.g. dollars and predict dollars\n",
    "rmse = mean_squared_error(Yy, yhat, squared=False)\n",
    "\n",
    "\n",
    "#R2 - explained variance\n",
    "# R2 value will increase by increasing the number of features.\n",
    "from sklearn.metrics import r2_score\n",
    "r2_score(Yy, yhat)   #  0.9933667463020615 \n",
    "\n"
   ]
  },
  {
   "cell_type": "raw",
   "metadata": {},
   "source": [
    "Interpretation of results\n"
   ]
  },
  {
   "cell_type": "code",
   "execution_count": null,
   "metadata": {},
   "outputs": [],
   "source": [
    "# 2i. LSTM with cross-validation\n",
    "\n",
    "# Optimal step count\n",
    "\n",
    "\n",
    "\n",
    "# Optimal LSTM hyper-parameters\n",
    "\n",
    "\n",
    "\n",
    "\n"
   ]
  },
  {
   "cell_type": "code",
   "execution_count": null,
   "metadata": {},
   "outputs": [],
   "source": [
    "### Plot comparative table for ARIMA, SARIMA, LSTM (basic and cross-validated one)\n",
    "\n",
    "\n",
    "\n"
   ]
  },
  {
   "cell_type": "code",
   "execution_count": null,
   "metadata": {},
   "outputs": [],
   "source": [
    "### Advance techniques for pre-processing and feature engineering\n",
    "\n",
    "\n",
    "\n"
   ]
  },
  {
   "cell_type": "code",
   "execution_count": null,
   "metadata": {},
   "outputs": [],
   "source": []
  },
  {
   "cell_type": "code",
   "execution_count": null,
   "metadata": {},
   "outputs": [],
   "source": []
  },
  {
   "cell_type": "code",
   "execution_count": null,
   "metadata": {},
   "outputs": [],
   "source": []
  },
  {
   "cell_type": "code",
   "execution_count": null,
   "metadata": {},
   "outputs": [],
   "source": []
  }
 ],
 "metadata": {
  "kernelspec": {
   "display_name": "Python 3",
   "language": "python",
   "name": "python3"
  },
  "language_info": {
   "codemirror_mode": {
    "name": "ipython",
    "version": 3
   },
   "file_extension": ".py",
   "mimetype": "text/x-python",
   "name": "python",
   "nbconvert_exporter": "python",
   "pygments_lexer": "ipython3",
   "version": "3.7.4"
  }
 },
 "nbformat": 4,
 "nbformat_minor": 2
}
